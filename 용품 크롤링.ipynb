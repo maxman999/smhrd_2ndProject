{
 "cells": [
  {
   "cell_type": "code",
   "execution_count": 2,
   "metadata": {},
   "outputs": [],
   "source": [
    "from selenium import webdriver\n",
    "from bs4 import BeautifulSoup as bs\n",
    "import time\n",
    "import re\n",
    "import pandas as pd"
   ]
  },
  {
   "cell_type": "code",
   "execution_count": 3,
   "metadata": {},
   "outputs": [],
   "source": [
    "driver = webdriver.Chrome()\n",
    "url = \"https://cafe.naver.com/imsanbu\"\n",
    "driver.get(url)\n",
    "# 로그인!!!"
   ]
  },
  {
   "cell_type": "code",
   "execution_count": 4,
   "metadata": {},
   "outputs": [],
   "source": []
  },
  {
   "cell_type": "code",
   "execution_count": 52,
   "metadata": {},
   "outputs": [],
   "source": [
    "# DataFrame 담을 리스트\n",
    "pre_list = []\n",
    "# 게시판 선택\n",
    "for k in range(818, 828):\n",
    "    source = driver.page_source\n",
    "    soup = bs(source, 'lxml')\n",
    "    element = driver.find_element_by_css_selector(\"#menuLink{}\".format(k))\n",
    "    time.sleep(0.8)\n",
    "    element.click()\n",
    "    \n",
    "    # 게시글 번호 저장\n",
    "    board_list = []\n",
    "    title = []\n",
    "    content = []\n",
    "    for i in range(1,101):\n",
    "        url = \"https://cafe.naver.com/imsanbu?iframe_url=/ArticleList.nhn%3Fsearch.clubid=10094499%26search.menuid={}%26search.boardtype=L%26search.totalCount=151%26search.page={}\".format(k, i)\n",
    "        driver.get(url)\n",
    "        time.sleep(0.8)\n",
    "        driver.switch_to.frame(\"cafe_main\")\n",
    "        time.sleep(0.8)\n",
    "        source = driver.page_source\n",
    "        soup = bs(source, 'lxml')\n",
    "        for j in soup.select('.board-number'):\n",
    "            board_list.append(j.text)\n",
    "        driver.switch_to.parent_frame()\n",
    "        \n",
    "    for h in board_list:\n",
    "        try:\n",
    "            target_url = \"https://cafe.naver.com/imsanbu?iframe_url_utf8=%2FArticleRead.nhn%253Fclubid%3D10094499%2526page%3D10%2526menuid%3D818%2526boardtype%3DL%2526articleid%3D{}%2526referrerAllArticles%3Dfalse\".format(h)\n",
    "            driver.get(target_url)\n",
    "            time.sleep(0.8)\n",
    "            driver.switch_to.frame(\"cafe_main\")\n",
    "            time.sleep(0.8)\n",
    "            source = driver.page_source\n",
    "            soup = bs(source, 'lxml')\n",
    "            title.append(soup.select('.title_text')[0].text.strip())\n",
    "            try:\n",
    "                content.append(soup.select('.se-component')[0].text.strip())\n",
    "            except:\n",
    "                content.append(\"none\")\n",
    "            driver.switch_to.parent_frame()\n",
    "        except:\n",
    "                pass\n",
    "\n",
    "    result = {\"제목\" : title,'내용' : content}\n",
    "    pre_list.append(pd.DataFrame(result))"
   ]
  },
  {
   "cell_type": "code",
   "execution_count": 54,
   "metadata": {},
   "outputs": [
    {
     "ename": "IndexError",
     "evalue": "list index out of range",
     "output_type": "error",
     "traceback": [
      "\u001b[1;31m---------------------------------------------------------------------------\u001b[0m",
      "\u001b[1;31mIndexError\u001b[0m                                Traceback (most recent call last)",
      "\u001b[1;32m<ipython-input-54-5ef517967336>\u001b[0m in \u001b[0;36m<module>\u001b[1;34m\u001b[0m\n\u001b[0;32m      1\u001b[0m \u001b[1;31m# 주차별 확인 0~12\u001b[0m\u001b[1;33m\u001b[0m\u001b[1;33m\u001b[0m\u001b[1;33m\u001b[0m\u001b[0m\n\u001b[1;32m----> 2\u001b[1;33m \u001b[0mpre_list\u001b[0m\u001b[1;33m[\u001b[0m\u001b[1;36m10\u001b[0m\u001b[1;33m]\u001b[0m\u001b[1;33m\u001b[0m\u001b[1;33m\u001b[0m\u001b[0m\n\u001b[0m",
      "\u001b[1;31mIndexError\u001b[0m: list index out of range"
     ]
    }
   ],
   "source": [
    "# 주차별 확인 0~12\n",
    "pre_list[10]"
   ]
  },
  {
   "cell_type": "code",
   "execution_count": 55,
   "metadata": {},
   "outputs": [],
   "source": [
    "# 최종 출력\n",
    "for i in range(len(pre_list)):\n",
    "    pre_list[i].to_csv(\"result\"+str(i)+\".csv\", encoding=\"utf-8-sig\")"
   ]
  },
  {
   "cell_type": "code",
   "execution_count": null,
   "metadata": {},
   "outputs": [],
   "source": [
    "# # 초기 mam_df\n",
    "# title = []\n",
    "# content = []\n",
    "# result = {\"제목\" : title, \"내용\" : content}\n",
    "# mam_df = pd.DataFrame(result)"
   ]
  },
  {
   "cell_type": "code",
   "execution_count": null,
   "metadata": {},
   "outputs": [],
   "source": [
    "# # mam_df에 합치기\n",
    "# result1 = {\"제목\" : title,'내용' : content}\n",
    "# df1 = pd.DataFrame(result1)\n",
    "# mam_df = pd.concat([mam_df,df1])"
   ]
  },
  {
   "cell_type": "code",
   "execution_count": null,
   "metadata": {},
   "outputs": [],
   "source": []
  },
  {
   "cell_type": "code",
   "execution_count": null,
   "metadata": {},
   "outputs": [],
   "source": []
  }
 ],
 "metadata": {
  "kernelspec": {
   "display_name": "Python 3",
   "language": "python",
   "name": "python3"
  },
  "language_info": {
   "codemirror_mode": {
    "name": "ipython",
    "version": 3
   },
   "file_extension": ".py",
   "mimetype": "text/x-python",
   "name": "python",
   "nbconvert_exporter": "python",
   "pygments_lexer": "ipython3",
   "version": "3.8.3"
  }
 },
 "nbformat": 4,
 "nbformat_minor": 4
}
